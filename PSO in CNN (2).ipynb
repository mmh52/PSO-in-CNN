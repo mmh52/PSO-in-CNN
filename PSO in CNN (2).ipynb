{
 "cells": [
  {
   "cell_type": "markdown",
   "metadata": {},
   "source": [
    "# Apply PSO in CNN"
   ]
  },
  {
   "cell_type": "code",
   "execution_count": 1,
   "metadata": {},
   "outputs": [],
   "source": [
    "import numpy as np\n",
    "import random\n",
    "from sklearn.datasets import load_iris\n",
    "data = load_iris()\n",
    "X = data.data\n",
    "Y = data.target\n",
    "Y=Y.transpose()\n"
   ]
  },
  {
   "cell_type": "code",
   "execution_count": 18,
   "metadata": {},
   "outputs": [],
   "source": [
    "def model(X,w1,w2,b1,b2):\n",
    "    y1=X.dot(w1)+b1;y=y1.dot(w2)+b2\n",
    "    return y\n",
    "\n",
    "def prob_class(X,w1,w2,b1,b2):\n",
    "    y_hat=model(X,w1,w2,b1,b2);\n",
    "    prob=[y/sum(y) for y in y_hat]\n",
    "    #print(prob)\n",
    "    return prob\n",
    "    \n",
    "def loss(X,y,w1,w2,b1,b2):\n",
    "    y_hat=model(X,w1,w2,b1,b2)\n",
    "    cross_entropy_soft_max_loss=[]\n",
    "    for i in range(len(y)):\n",
    "        j=y[i]\n",
    "        a=-np.log(y_hat[i][j])\n",
    "        cross_entropy_soft_max_loss.append(np.exp(a))\n",
    "        L= sum(cross_entropy_soft_max_loss)/len(y)\n",
    "        w=np.append(w1.reshape(-1,w1.size), w2.reshape(-1,w2.size))\n",
    "    #print(ce_loss)\n",
    "    return(L,w)"
   ]
  },
  {
   "cell_type": "code",
   "execution_count": 19,
   "metadata": {},
   "outputs": [],
   "source": [
    "##### Loss function given particles\n",
    "def loss_linear(X,y,v):\n",
    "    w1=np.reshape(theta[0:64],(4,16))\n",
    "    w2=np.reshape(theta[64:],(16,3))\n",
    "    y_hat=model(X,w1,w2,b1,b2)\n",
    "    ce_loss=[]\n",
    "    for i in range(len(y)):\n",
    "        j=y[i]\n",
    "        a=-np.log(y_hat[i][j])\n",
    "        ce_loss.append(np.exp(a))\n",
    "        L= sum(ce_loss)/len(y)\n",
    "        w=np.append(w1.reshape(-1,w1.size), w2.reshape(-1,w2.size))\n",
    "    return(L,W1,W2)"
   ]
  },
  {
   "cell_type": "code",
   "execution_count": 23,
   "metadata": {},
   "outputs": [],
   "source": [
    "### Update velocity in PSO for each particle\n",
    "def vel(v,w,c1,r1,c2,r2,g_best,p_best,theta):\n",
    "    out=w*v+c1*r1*(p_best-theta)+c2*r2*(g_best-theta)\n",
    "    return(out)"
   ]
  },
  {
   "cell_type": "code",
   "execution_count": 26,
   "metadata": {},
   "outputs": [],
   "source": [
    "###### X:Data, Y: label, n: number of particles\n",
    "######\n",
    "\n",
    "def PSO(X,Y):\n",
    "    np.random.seed(100)\n",
    "    p=np.random.rand(20,112)\n",
    "    W1=np.random.rand(4,16)\n",
    "    W2=np.random.rand(16,3)\n",
    "    w=np.append(np.reshape(W1,(1,-1)),np.reshape(W2,(1,-1)))\n",
    "    b1=np.random.rand(150,16)\n",
    "    b2=np.random.rand(150,3)\n",
    "\n",
    "\n",
    "    c1=0.1;c2=0.8\n",
    "    w0=0.1\n",
    "    r1=random.uniform(0, 1)\n",
    "    r2=random.uniform(0, 1)\n",
    "    v=np.random.rand(20,112)*0.5\n",
    "    g_best=p[0] ##### random initaiation for g_best\n",
    "    dg_best=1\n",
    "\n",
    "    point0=g_best\n",
    "\n",
    "\n",
    "\n",
    "    counter=0\n",
    "\n",
    "    #for k in range(100):\n",
    "    while(abs(dg_best)>0.000001):\n",
    "        g_best0=g_best\n",
    "        p_best=p\n",
    "\n",
    "        ##### Find function value at particles\n",
    "        f=[]\n",
    "        for i in range(20):\n",
    "            #print('running',i)\n",
    "            theta=p[i]\n",
    "            #print(len(p[i]))\n",
    "            f.append(loss_linear(X,Y,theta)[0])\n",
    "\n",
    "\n",
    "\n",
    "        ##### Update Global best\n",
    "        g_best=p[np.argmin(f)]\n",
    "        #print(g_best)\n",
    "        #print(len(p[5]))\n",
    "\n",
    "        ##### Update velocity\n",
    "        for i in range(20):\n",
    "            v[i]=vel(v[i],w0,c1,r1,c2,r2,g_best,p_best[i],p[i])\n",
    "            #print(v[i])\n",
    "            #a=vel(v0,w0,c1,r1,c2,r2,g_best,p_best[i],p[i])\n",
    "            #v.append(a)\n",
    "\n",
    "        ##### Update particles \n",
    "        p=p+v\n",
    "        #print(len(p))\n",
    "        #print([p])\n",
    "\n",
    "\n",
    "        ##### Update Personal best\n",
    "        for i in range(20):\n",
    "            #print(p[i])\n",
    "            if(loss_linear(X,Y,p[i])<loss_linear(X,Y,p_best[i])):\n",
    "                p_best[i]=p[i]\n",
    "                #print(np.linalg.norm())\n",
    "        dg_best=np.linalg.norm(g_best-g_best0)\n",
    "        #print(p.size)\n",
    "        counter=counter+1\n",
    "        #print(counter,dg_best)\n",
    "\n",
    "    W1=np.reshape(g_best[0:64],(4,16))\n",
    "    W2=np.reshape(g_best[64:112],(16,3))\n",
    "    return(W1,W2)\n",
    "    print(np.linalg.norm(g_best-point0))\n",
    "    #print(counter)\n",
    "    #print(p.size)"
   ]
  },
  {
   "cell_type": "code",
   "execution_count": 25,
   "metadata": {},
   "outputs": [],
   "source": [
    "W1,W2=PSO(X,Y)"
   ]
  },
  {
   "cell_type": "code",
   "execution_count": null,
   "metadata": {},
   "outputs": [],
   "source": []
  }
 ],
 "metadata": {
  "kernelspec": {
   "display_name": "Python 3",
   "language": "python",
   "name": "python3"
  },
  "language_info": {
   "codemirror_mode": {
    "name": "ipython",
    "version": 3
   },
   "file_extension": ".py",
   "mimetype": "text/x-python",
   "name": "python",
   "nbconvert_exporter": "python",
   "pygments_lexer": "ipython3",
   "version": "3.7.4"
  }
 },
 "nbformat": 4,
 "nbformat_minor": 2
}
